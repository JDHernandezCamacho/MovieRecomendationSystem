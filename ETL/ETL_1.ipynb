{
 "cells": [
  {
   "cell_type": "code",
   "execution_count": 4,
   "metadata": {},
   "outputs": [],
   "source": [
    "import csv\n",
    "def recovery_data(file_path):\n",
    "    \"\"\"\n",
    "        Función que recibe una ruta de archivo y lo procesa en modo texto, especificamente, identifica \n",
    "        las filas que no inician con True o False y las anida a la columna anterior donde pertenece para no perder data.\n",
    "            file_path: Ruta de archivo a procesar\n",
    "    \"\"\"\n",
    "    # Lectura del archivo en modo texto\n",
    "    with open(file_path, 'r', encoding='utf-8') as file:\n",
    "        lines = file.readlines()\n",
    "\n",
    "    # Para ignorar y al mismo tiempo guardar la primera fila (cabecera)\n",
    "    columns = lines[0].strip().split(',')\n",
    "    data_lines = lines[1:]\n",
    "\n",
    "    # Para recorrer el todo el texto por cada una de las líneas\n",
    "    for i, line in enumerate(data_lines):\n",
    "        if (line[0] == ' '):\n",
    "            data_lines[i-1] = data_lines[i-1].replace('\\n', '') + line\n",
    "            data_lines[i] = \"\"     ## Con este codigo eliminamos la fila duplicada que ya se anido a la fila anterior\n",
    "            # print(i,data_lines[i-1])\n",
    "\n",
    "    result = save_csv(file_path, columns, data_lines)\n",
    "    return result\n",
    "\n",
    "\n",
    "\n",
    "def save_csv (file_path, columns, data_lines):\n",
    "    \"\"\"\n",
    "        Función que recibe una lista de str con los nombres de las columnas de un dataset (cabecera)\n",
    "        y una lista de texto procesada en la función recovery_data y lo guarda en un archivo csv\n",
    "    \"\"\"\n",
    "    # Ruta al nuevo archivo CSV\n",
    "    txt_transf = 'transformado'\n",
    "    new_file_path = f'../Data/movies_{txt_transf}.csv'\n",
    "\n",
    "    # Guardar la lista procesada en el nuevo archivo CSV\n",
    "    with open(new_file_path, 'w', newline='', encoding='utf-8') as new_file:\n",
    "        writer = csv.writer(new_file)\n",
    "        # Escribir la cabecera\n",
    "        writer.writerow(columns)\n",
    "        # Escribir las filas procesadas\n",
    "        for line in data_lines:\n",
    "            new_file.write(line)\n",
    "    \n",
    "    return (f'El archivo {new_file_path} se ha creado satisfactoriamente.')"
   ]
  },
  {
   "cell_type": "code",
   "execution_count": 5,
   "metadata": {},
   "outputs": [
    {
     "data": {
      "text/plain": [
       "'El archivo ../Data/movies_transformado.csv se ha creado satisfactoriamente.'"
      ]
     },
     "execution_count": 5,
     "metadata": {},
     "output_type": "execute_result"
    }
   ],
   "source": [
    "file_path = '../Data/movies_dataset.csv'\n",
    "recovery_data(file_path)"
   ]
  }
 ],
 "metadata": {
  "kernelspec": {
   "display_name": "Python 3",
   "language": "python",
   "name": "python3"
  },
  "language_info": {
   "codemirror_mode": {
    "name": "ipython",
    "version": 3
   },
   "file_extension": ".py",
   "mimetype": "text/x-python",
   "name": "python",
   "nbconvert_exporter": "python",
   "pygments_lexer": "ipython3",
   "version": "3.12.1"
  }
 },
 "nbformat": 4,
 "nbformat_minor": 2
}
