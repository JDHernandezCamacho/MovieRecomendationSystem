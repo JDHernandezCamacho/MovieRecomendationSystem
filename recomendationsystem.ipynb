{
 "cells": [
  {
   "cell_type": "markdown",
   "metadata": {},
   "source": [
    "Librerias\n",
    "---"
   ]
  },
  {
   "cell_type": "code",
   "execution_count": 1,
   "metadata": {},
   "outputs": [],
   "source": [
    "import pandas as pd\n",
    "from sklearn.feature_extraction.text import TfidfVectorizer\n",
    "from sklearn.metrics.pairwise import cosine_similarity"
   ]
  },
  {
   "cell_type": "markdown",
   "metadata": {},
   "source": [
    "Dataset\n",
    "---"
   ]
  },
  {
   "cell_type": "code",
   "execution_count": 2,
   "metadata": {},
   "outputs": [],
   "source": [
    "# Carga el dataset de películas\n",
    "df = pd.read_parquet('Data/dataset_movies_to_ML.parquet')"
   ]
  },
  {
   "cell_type": "markdown",
   "metadata": {},
   "source": [
    "Entendiendo y preparando los datos\n",
    "---"
   ]
  },
  {
   "cell_type": "code",
   "execution_count": 3,
   "metadata": {},
   "outputs": [
    {
     "data": {
      "text/plain": [
       "Index(['genres', 'overview', 'popularity', 'production_companies',\n",
       "       'production_countries', 'title', 'vote_average', 'vote_count',\n",
       "       'release_year', 'director', 'actor_names'],\n",
       "      dtype='object')"
      ]
     },
     "execution_count": 3,
     "metadata": {},
     "output_type": "execute_result"
    }
   ],
   "source": [
    "df.columns"
   ]
  },
  {
   "cell_type": "code",
   "execution_count": 4,
   "metadata": {},
   "outputs": [
    {
     "data": {
      "text/plain": [
       "44513"
      ]
     },
     "execution_count": 4,
     "metadata": {},
     "output_type": "execute_result"
    }
   ],
   "source": [
    "len(df)"
   ]
  },
  {
   "cell_type": "code",
   "execution_count": 5,
   "metadata": {},
   "outputs": [
    {
     "data": {
      "text/html": [
       "<div>\n",
       "<style scoped>\n",
       "    .dataframe tbody tr th:only-of-type {\n",
       "        vertical-align: middle;\n",
       "    }\n",
       "\n",
       "    .dataframe tbody tr th {\n",
       "        vertical-align: top;\n",
       "    }\n",
       "\n",
       "    .dataframe thead th {\n",
       "        text-align: right;\n",
       "    }\n",
       "</style>\n",
       "<table border=\"1\" class=\"dataframe\">\n",
       "  <thead>\n",
       "    <tr style=\"text-align: right;\">\n",
       "      <th></th>\n",
       "      <th>genres</th>\n",
       "      <th>overview</th>\n",
       "      <th>popularity</th>\n",
       "      <th>production_companies</th>\n",
       "      <th>production_countries</th>\n",
       "      <th>title</th>\n",
       "      <th>vote_average</th>\n",
       "      <th>vote_count</th>\n",
       "      <th>release_year</th>\n",
       "      <th>director</th>\n",
       "      <th>actor_names</th>\n",
       "    </tr>\n",
       "  </thead>\n",
       "  <tbody>\n",
       "    <tr>\n",
       "      <th>0</th>\n",
       "      <td>[Animation, Comedy, Family]</td>\n",
       "      <td>Led by Woody, Andy's toys live happily in his ...</td>\n",
       "      <td>21.946943</td>\n",
       "      <td>[Pixar Animation Studios]</td>\n",
       "      <td>[United States of America]</td>\n",
       "      <td>Toy Story</td>\n",
       "      <td>7.7</td>\n",
       "      <td>5415</td>\n",
       "      <td>1995</td>\n",
       "      <td>[John Lasseter]</td>\n",
       "      <td>[Tom Hanks, Tim Allen, Don Rickles, Jim Varney...</td>\n",
       "    </tr>\n",
       "    <tr>\n",
       "      <th>1</th>\n",
       "      <td>[Adventure, Fantasy, Family]</td>\n",
       "      <td>When siblings Judy and Peter discover an encha...</td>\n",
       "      <td>17.015539</td>\n",
       "      <td>[TriStar Pictures, Teitler Film, Interscope Co...</td>\n",
       "      <td>[United States of America]</td>\n",
       "      <td>Jumanji</td>\n",
       "      <td>6.9</td>\n",
       "      <td>2413</td>\n",
       "      <td>1995</td>\n",
       "      <td>[Joe Johnston]</td>\n",
       "      <td>[Robin Williams, Jonathan Hyde, Kirsten Dunst,...</td>\n",
       "    </tr>\n",
       "    <tr>\n",
       "      <th>2</th>\n",
       "      <td>[Romance, Comedy]</td>\n",
       "      <td>A family wedding reignites the ancient feud be...</td>\n",
       "      <td>11.712900</td>\n",
       "      <td>[Warner Bros., Lancaster Gate]</td>\n",
       "      <td>[United States of America]</td>\n",
       "      <td>Grumpier Old Men</td>\n",
       "      <td>6.5</td>\n",
       "      <td>92</td>\n",
       "      <td>1995</td>\n",
       "      <td>[Howard Deutch]</td>\n",
       "      <td>[Walter Matthau, Jack Lemmon, Ann-Margret, Sop...</td>\n",
       "    </tr>\n",
       "    <tr>\n",
       "      <th>3</th>\n",
       "      <td>[Comedy, Drama, Romance]</td>\n",
       "      <td>Cheated on, mistreated and stepped on, the wom...</td>\n",
       "      <td>3.859495</td>\n",
       "      <td>[Twentieth Century Fox Film Corporation]</td>\n",
       "      <td>[United States of America]</td>\n",
       "      <td>Waiting to Exhale</td>\n",
       "      <td>6.1</td>\n",
       "      <td>34</td>\n",
       "      <td>1995</td>\n",
       "      <td>[Forest Whitaker]</td>\n",
       "      <td>[Whitney Houston, Angela Bassett, Loretta Devi...</td>\n",
       "    </tr>\n",
       "    <tr>\n",
       "      <th>4</th>\n",
       "      <td>[Comedy]</td>\n",
       "      <td>Just when George Banks has recovered from his ...</td>\n",
       "      <td>8.387519</td>\n",
       "      <td>[Sandollar Productions, Touchstone Pictures]</td>\n",
       "      <td>[United States of America]</td>\n",
       "      <td>Father of the Bride Part II</td>\n",
       "      <td>5.7</td>\n",
       "      <td>173</td>\n",
       "      <td>1995</td>\n",
       "      <td>[Charles Shyer]</td>\n",
       "      <td>[Steve Martin, Diane Keaton, Martin Short, Kim...</td>\n",
       "    </tr>\n",
       "  </tbody>\n",
       "</table>\n",
       "</div>"
      ],
      "text/plain": [
       "                         genres  \\\n",
       "0   [Animation, Comedy, Family]   \n",
       "1  [Adventure, Fantasy, Family]   \n",
       "2             [Romance, Comedy]   \n",
       "3      [Comedy, Drama, Romance]   \n",
       "4                      [Comedy]   \n",
       "\n",
       "                                            overview  popularity  \\\n",
       "0  Led by Woody, Andy's toys live happily in his ...   21.946943   \n",
       "1  When siblings Judy and Peter discover an encha...   17.015539   \n",
       "2  A family wedding reignites the ancient feud be...   11.712900   \n",
       "3  Cheated on, mistreated and stepped on, the wom...    3.859495   \n",
       "4  Just when George Banks has recovered from his ...    8.387519   \n",
       "\n",
       "                                production_companies  \\\n",
       "0                          [Pixar Animation Studios]   \n",
       "1  [TriStar Pictures, Teitler Film, Interscope Co...   \n",
       "2                     [Warner Bros., Lancaster Gate]   \n",
       "3           [Twentieth Century Fox Film Corporation]   \n",
       "4       [Sandollar Productions, Touchstone Pictures]   \n",
       "\n",
       "         production_countries                        title  vote_average  \\\n",
       "0  [United States of America]                    Toy Story           7.7   \n",
       "1  [United States of America]                      Jumanji           6.9   \n",
       "2  [United States of America]             Grumpier Old Men           6.5   \n",
       "3  [United States of America]            Waiting to Exhale           6.1   \n",
       "4  [United States of America]  Father of the Bride Part II           5.7   \n",
       "\n",
       "   vote_count  release_year           director  \\\n",
       "0        5415          1995    [John Lasseter]   \n",
       "1        2413          1995     [Joe Johnston]   \n",
       "2          92          1995    [Howard Deutch]   \n",
       "3          34          1995  [Forest Whitaker]   \n",
       "4         173          1995    [Charles Shyer]   \n",
       "\n",
       "                                         actor_names  \n",
       "0  [Tom Hanks, Tim Allen, Don Rickles, Jim Varney...  \n",
       "1  [Robin Williams, Jonathan Hyde, Kirsten Dunst,...  \n",
       "2  [Walter Matthau, Jack Lemmon, Ann-Margret, Sop...  \n",
       "3  [Whitney Houston, Angela Bassett, Loretta Devi...  \n",
       "4  [Steve Martin, Diane Keaton, Martin Short, Kim...  "
      ]
     },
     "execution_count": 5,
     "metadata": {},
     "output_type": "execute_result"
    }
   ],
   "source": [
    "df.head(5)"
   ]
  },
  {
   "cell_type": "code",
   "execution_count": 40,
   "metadata": {},
   "outputs": [],
   "source": [
    "indices = df[df['overview'] == ''].index"
   ]
  },
  {
   "cell_type": "code",
   "execution_count": 41,
   "metadata": {},
   "outputs": [],
   "source": [
    "df = df.drop(index=indices)"
   ]
  },
  {
   "cell_type": "code",
   "execution_count": 43,
   "metadata": {},
   "outputs": [
    {
     "data": {
      "text/html": [
       "<div>\n",
       "<style scoped>\n",
       "    .dataframe tbody tr th:only-of-type {\n",
       "        vertical-align: middle;\n",
       "    }\n",
       "\n",
       "    .dataframe tbody tr th {\n",
       "        vertical-align: top;\n",
       "    }\n",
       "\n",
       "    .dataframe thead th {\n",
       "        text-align: right;\n",
       "    }\n",
       "</style>\n",
       "<table border=\"1\" class=\"dataframe\">\n",
       "  <thead>\n",
       "    <tr style=\"text-align: right;\">\n",
       "      <th></th>\n",
       "      <th>genres</th>\n",
       "      <th>overview</th>\n",
       "      <th>popularity</th>\n",
       "      <th>production_companies</th>\n",
       "      <th>production_countries</th>\n",
       "      <th>title</th>\n",
       "      <th>vote_average</th>\n",
       "      <th>vote_count</th>\n",
       "      <th>release_year</th>\n",
       "      <th>director</th>\n",
       "      <th>actor_names</th>\n",
       "    </tr>\n",
       "  </thead>\n",
       "  <tbody>\n",
       "  </tbody>\n",
       "</table>\n",
       "</div>"
      ],
      "text/plain": [
       "Empty DataFrame\n",
       "Columns: [genres, overview, popularity, production_companies, production_countries, title, vote_average, vote_count, release_year, director, actor_names]\n",
       "Index: []"
      ]
     },
     "execution_count": 43,
     "metadata": {},
     "output_type": "execute_result"
    }
   ],
   "source": [
    "df[df['overview'] == '']"
   ]
  },
  {
   "cell_type": "code",
   "execution_count": 44,
   "metadata": {},
   "outputs": [
    {
     "data": {
      "text/html": [
       "<div>\n",
       "<style scoped>\n",
       "    .dataframe tbody tr th:only-of-type {\n",
       "        vertical-align: middle;\n",
       "    }\n",
       "\n",
       "    .dataframe tbody tr th {\n",
       "        vertical-align: top;\n",
       "    }\n",
       "\n",
       "    .dataframe thead th {\n",
       "        text-align: right;\n",
       "    }\n",
       "</style>\n",
       "<table border=\"1\" class=\"dataframe\">\n",
       "  <thead>\n",
       "    <tr style=\"text-align: right;\">\n",
       "      <th></th>\n",
       "      <th>genres</th>\n",
       "      <th>overview</th>\n",
       "      <th>popularity</th>\n",
       "      <th>production_companies</th>\n",
       "      <th>production_countries</th>\n",
       "      <th>title</th>\n",
       "      <th>vote_average</th>\n",
       "      <th>vote_count</th>\n",
       "      <th>release_year</th>\n",
       "      <th>director</th>\n",
       "      <th>actor_names</th>\n",
       "    </tr>\n",
       "  </thead>\n",
       "  <tbody>\n",
       "  </tbody>\n",
       "</table>\n",
       "</div>"
      ],
      "text/plain": [
       "Empty DataFrame\n",
       "Columns: [genres, overview, popularity, production_companies, production_countries, title, vote_average, vote_count, release_year, director, actor_names]\n",
       "Index: []"
      ]
     },
     "execution_count": 44,
     "metadata": {},
     "output_type": "execute_result"
    }
   ],
   "source": [
    "df[df['overview'] == \"\"]"
   ]
  },
  {
   "cell_type": "code",
   "execution_count": 17,
   "metadata": {},
   "outputs": [],
   "source": [
    "df['overview'] = df['overview'].str.strip()"
   ]
  },
  {
   "cell_type": "code",
   "execution_count": 36,
   "metadata": {},
   "outputs": [],
   "source": [
    "df = df.dropna()"
   ]
  },
  {
   "cell_type": "code",
   "execution_count": 32,
   "metadata": {},
   "outputs": [],
   "source": [
    "import re"
   ]
  },
  {
   "cell_type": "code",
   "execution_count": 34,
   "metadata": {},
   "outputs": [],
   "source": [
    "df['overview'] = df['overview'].apply(lambda x: re.sub(r'[^a-zA-Z0-9\\s]', '', x))"
   ]
  },
  {
   "cell_type": "code",
   "execution_count": 45,
   "metadata": {},
   "outputs": [
    {
     "data": {
      "text/plain": [
       "<bound method DataFrame.info of                              genres  \\\n",
       "0       [Animation, Comedy, Family]   \n",
       "1      [Adventure, Fantasy, Family]   \n",
       "2                 [Romance, Comedy]   \n",
       "3          [Comedy, Drama, Romance]   \n",
       "4                          [Comedy]   \n",
       "...                             ...   \n",
       "45449      [Drama, Action, Romance]   \n",
       "45450                       [Drama]   \n",
       "45451     [Action, Drama, Thriller]   \n",
       "45452                            []   \n",
       "45453                            []   \n",
       "\n",
       "                                                overview  popularity  \\\n",
       "0      Led by Woody Andys toys live happily in his ro...   21.946943   \n",
       "1      When siblings Judy and Peter discover an encha...   17.015539   \n",
       "2      A family wedding reignites the ancient feud be...   11.712900   \n",
       "3      Cheated on mistreated and stepped on the women...    3.859495   \n",
       "4      Just when George Banks has recovered from his ...    8.387519   \n",
       "...                                                  ...         ...   \n",
       "45449  Yet another version of the classic epic with e...    5.683753   \n",
       "45450  An artist struggles to finish his work while a...    0.178241   \n",
       "45451  When one of her hits goes wrong a professional...    0.903007   \n",
       "45452  In a small town live two brothers one a minist...    0.003503   \n",
       "45453  50 years after decriminalisation of homosexual...    0.163015   \n",
       "\n",
       "                                    production_companies  \\\n",
       "0                              [Pixar Animation Studios]   \n",
       "1      [TriStar Pictures, Teitler Film, Interscope Co...   \n",
       "2                         [Warner Bros., Lancaster Gate]   \n",
       "3               [Twentieth Century Fox Film Corporation]   \n",
       "4           [Sandollar Productions, Touchstone Pictures]   \n",
       "...                                                  ...   \n",
       "45449  [Westdeutscher Rundfunk (WDR), Working Title F...   \n",
       "45450                                      [Sine Olivia]   \n",
       "45451                          [American World Pictures]   \n",
       "45452                                        [Yermoliev]   \n",
       "45453                                                 []   \n",
       "\n",
       "                                    production_countries  \\\n",
       "0                             [United States of America]   \n",
       "1                             [United States of America]   \n",
       "2                             [United States of America]   \n",
       "3                             [United States of America]   \n",
       "4                             [United States of America]   \n",
       "...                                                  ...   \n",
       "45449  [Canada, Germany, United Kingdom, United State...   \n",
       "45450                                      [Philippines]   \n",
       "45451                         [United States of America]   \n",
       "45452                                           [Russia]   \n",
       "45453                                   [United Kingdom]   \n",
       "\n",
       "                             title  vote_average  vote_count  release_year  \\\n",
       "0                        Toy Story           7.7        5415          1995   \n",
       "1                          Jumanji           6.9        2413          1995   \n",
       "2                 Grumpier Old Men           6.5          92          1995   \n",
       "3                Waiting to Exhale           6.1          34          1995   \n",
       "4      Father of the Bride Part II           5.7         173          1995   \n",
       "...                            ...           ...         ...           ...   \n",
       "45449                   Robin Hood           5.7          26          1991   \n",
       "45450          Century of Birthing           9.0           3          2011   \n",
       "45451                     Betrayal           3.8           6          2003   \n",
       "45452             Satan Triumphant           0.0           0          1917   \n",
       "45453                     Queerama           0.0           0          2017   \n",
       "\n",
       "                 director                                        actor_names  \n",
       "0         [John Lasseter]  [Tom Hanks, Tim Allen, Don Rickles, Jim Varney...  \n",
       "1          [Joe Johnston]  [Robin Williams, Jonathan Hyde, Kirsten Dunst,...  \n",
       "2         [Howard Deutch]  [Walter Matthau, Jack Lemmon, Ann-Margret, Sop...  \n",
       "3       [Forest Whitaker]  [Whitney Houston, Angela Bassett, Loretta Devi...  \n",
       "4         [Charles Shyer]  [Steve Martin, Diane Keaton, Martin Short, Kim...  \n",
       "...                   ...                                                ...  \n",
       "45449        [John Irvin]  [Patrick Bergin, Uma Thurman, David Morrissey,...  \n",
       "45450          [Lav Diaz]  [Angel Aquino, Perry Dizon, Hazel Orencio, Joe...  \n",
       "45451    [Mark L. Lester]  [Erika Eleniak, Adam Baldwin, Julie du Page, J...  \n",
       "45452  [Yakov Protazanov]  [Iwan Mosschuchin, Nathalie Lissenko, Pavel Pa...  \n",
       "45453     [Daisy Asquith]                                                 []  \n",
       "\n",
       "[44507 rows x 11 columns]>"
      ]
     },
     "execution_count": 45,
     "metadata": {},
     "output_type": "execute_result"
    }
   ],
   "source": [
    "df.info"
   ]
  },
  {
   "cell_type": "code",
   "execution_count": 6,
   "metadata": {},
   "outputs": [
    {
     "name": "stdout",
     "output_type": "stream",
     "text": [
      "<class 'pandas.core.frame.DataFrame'>\n",
      "Index: 44513 entries, 0 to 45453\n",
      "Data columns (total 11 columns):\n",
      " #   Column                Non-Null Count  Dtype  \n",
      "---  ------                --------------  -----  \n",
      " 0   genres                44513 non-null  object \n",
      " 1   overview              44513 non-null  object \n",
      " 2   popularity            44513 non-null  float64\n",
      " 3   production_companies  44513 non-null  object \n",
      " 4   production_countries  44513 non-null  object \n",
      " 5   title                 44513 non-null  object \n",
      " 6   vote_average          44513 non-null  float64\n",
      " 7   vote_count            44513 non-null  int64  \n",
      " 8   release_year          44513 non-null  int32  \n",
      " 9   director              44513 non-null  object \n",
      " 10  actor_names           44513 non-null  object \n",
      "dtypes: float64(2), int32(1), int64(1), object(7)\n",
      "memory usage: 3.9+ MB\n"
     ]
    }
   ],
   "source": [
    "df.info()"
   ]
  },
  {
   "cell_type": "code",
   "execution_count": 7,
   "metadata": {},
   "outputs": [
    {
     "data": {
      "text/plain": [
       "0     [Animation, Comedy, Family]\n",
       "1    [Adventure, Fantasy, Family]\n",
       "2               [Romance, Comedy]\n",
       "3        [Comedy, Drama, Romance]\n",
       "4                        [Comedy]\n",
       "Name: genres, dtype: object"
      ]
     },
     "execution_count": 7,
     "metadata": {},
     "output_type": "execute_result"
    }
   ],
   "source": [
    "df['genres'].head(5)"
   ]
  },
  {
   "cell_type": "code",
   "execution_count": 8,
   "metadata": {},
   "outputs": [
    {
     "data": {
      "text/plain": [
       "0    Led by Woody, Andy's toys live happily in his ...\n",
       "1    When siblings Judy and Peter discover an encha...\n",
       "2    A family wedding reignites the ancient feud be...\n",
       "3    Cheated on, mistreated and stepped on, the wom...\n",
       "4    Just when George Banks has recovered from his ...\n",
       "Name: overview, dtype: object"
      ]
     },
     "execution_count": 8,
     "metadata": {},
     "output_type": "execute_result"
    }
   ],
   "source": [
    "df['overview'].head()"
   ]
  },
  {
   "cell_type": "code",
   "execution_count": 9,
   "metadata": {},
   "outputs": [
    {
     "data": {
      "text/plain": [
       "\"Led by Woody, Andy's toys live happily in his room until Andy's birthday brings Buzz Lightyear onto the scene. Afraid of losing his place in Andy's heart, Woody plots against Buzz. But when circumstances separate Buzz and Woody from their owner, the duo eventually learns to put aside their differences.\""
      ]
     },
     "execution_count": 9,
     "metadata": {},
     "output_type": "execute_result"
    }
   ],
   "source": [
    "df['overview'][0]"
   ]
  },
  {
   "cell_type": "code",
   "execution_count": 10,
   "metadata": {},
   "outputs": [
    {
     "name": "stdout",
     "output_type": "stream",
     "text": [
      "<class 'pandas.core.series.Series'>\n",
      "Index: 44513 entries, 0 to 45453\n",
      "Series name: genres\n",
      "Non-Null Count  Dtype \n",
      "--------------  ----- \n",
      "44513 non-null  object\n",
      "dtypes: object(1)\n",
      "memory usage: 1.7+ MB\n"
     ]
    }
   ],
   "source": [
    "df['genres'].info()"
   ]
  },
  {
   "cell_type": "code",
   "execution_count": 11,
   "metadata": {},
   "outputs": [
    {
     "data": {
      "text/plain": [
       "array(['Tom Hanks', 'Tim Allen', 'Don Rickles', 'Jim Varney',\n",
       "       'Wallace Shawn', 'John Ratzenberger', 'Annie Potts', 'John Morris',\n",
       "       'Erik von Detten', 'Laurie Metcalf', 'R. Lee Ermey',\n",
       "       'Sarah Freeman', 'Penn Jillette'], dtype=object)"
      ]
     },
     "execution_count": 11,
     "metadata": {},
     "output_type": "execute_result"
    }
   ],
   "source": [
    "df['actor_names'][0]"
   ]
  },
  {
   "cell_type": "markdown",
   "metadata": {},
   "source": [
    "Las columnas produccion_companies, production_companies, 'production_countries', 'director' y 'actor_names' tienen datos estructurados en formato array de numpy: ej. [Animation, Comedy, Family]"
   ]
  },
  {
   "cell_type": "code",
   "execution_count": 6,
   "metadata": {},
   "outputs": [],
   "source": [
    "# Convierte arrays de numpy a cadenas de texto\n",
    "df['genres'] = df['genres'].apply(lambda x: ' '.join(x))"
   ]
  },
  {
   "cell_type": "code",
   "execution_count": 13,
   "metadata": {},
   "outputs": [
    {
     "data": {
      "text/plain": [
       "0         Animation Comedy Family\n",
       "1        Adventure Fantasy Family\n",
       "2                  Romance Comedy\n",
       "3            Comedy Drama Romance\n",
       "4                          Comedy\n",
       "                   ...           \n",
       "45449        Drama Action Romance\n",
       "45450                       Drama\n",
       "45451       Action Drama Thriller\n",
       "45452                            \n",
       "45453                            \n",
       "Name: genres, Length: 44513, dtype: object"
      ]
     },
     "execution_count": 13,
     "metadata": {},
     "output_type": "execute_result"
    }
   ],
   "source": [
    "# Datos cambiados a texto, separado cada genero por espacio\n",
    "df['genres']"
   ]
  },
  {
   "cell_type": "code",
   "execution_count": 14,
   "metadata": {},
   "outputs": [
    {
     "data": {
      "text/plain": [
       "'Animation Comedy Family'"
      ]
     },
     "execution_count": 14,
     "metadata": {},
     "output_type": "execute_result"
    }
   ],
   "source": [
    "df['genres'][0]"
   ]
  },
  {
   "cell_type": "code",
   "execution_count": 4,
   "metadata": {},
   "outputs": [],
   "source": [
    "# Se convierten las columnas produccion_companies, production_companies, 'production_countries', 'director' y 'actor_names' en texto\n",
    "df['production_companies'] = df['production_companies'].apply(lambda x: ' '.join(x))\n",
    "df['production_countries'] = df['production_countries'].apply(lambda x: ' '.join(x))\n",
    "df['director'] = df['director'].apply(lambda x: ' '.join(x))\n",
    "df['actor_names'] = df['actor_names'].apply(lambda x: ' '.join(x))"
   ]
  },
  {
   "cell_type": "code",
   "execution_count": 16,
   "metadata": {},
   "outputs": [
    {
     "data": {
      "text/plain": [
       "0        Tom Hanks Tim Allen Don Rickles Jim Varney Wal...\n",
       "1        Robin Williams Jonathan Hyde Kirsten Dunst Bra...\n",
       "2        Walter Matthau Jack Lemmon Ann-Margret Sophia ...\n",
       "3        Whitney Houston Angela Bassett Loretta Devine ...\n",
       "4        Steve Martin Diane Keaton Martin Short Kimberl...\n",
       "                               ...                        \n",
       "45449    Patrick Bergin Uma Thurman David Morrissey Jür...\n",
       "45450    Angel Aquino Perry Dizon Hazel Orencio Joel To...\n",
       "45451    Erika Eleniak Adam Baldwin Julie du Page James...\n",
       "45452    Iwan Mosschuchin Nathalie Lissenko Pavel Pavlo...\n",
       "45453                                                     \n",
       "Name: actor_names, Length: 44513, dtype: object"
      ]
     },
     "execution_count": 16,
     "metadata": {},
     "output_type": "execute_result"
    }
   ],
   "source": [
    "df['actor_names']"
   ]
  },
  {
   "cell_type": "markdown",
   "metadata": {},
   "source": [
    "---\n",
    "Modelo de recomendación por Generos\n",
    "---"
   ]
  },
  {
   "cell_type": "markdown",
   "metadata": {},
   "source": [
    "Vectorizacion"
   ]
  },
  {
   "cell_type": "code",
   "execution_count": 7,
   "metadata": {},
   "outputs": [],
   "source": [
    "# Vectorizando y creando la matrix de cada genero\n",
    "tfidf = TfidfVectorizer(stop_words='english')\n",
    "tfidf_matrix = tfidf.fit_transform(df['genres'])"
   ]
  },
  {
   "cell_type": "markdown",
   "metadata": {},
   "source": [
    "Calculando similitud del coseno"
   ]
  },
  {
   "cell_type": "code",
   "execution_count": 8,
   "metadata": {},
   "outputs": [],
   "source": [
    "# Calcula sla similitud del coseno\n",
    "cosine_sim = cosine_similarity(tfidf_matrix, tfidf_matrix)"
   ]
  },
  {
   "cell_type": "code",
   "execution_count": 9,
   "metadata": {},
   "outputs": [
    {
     "data": {
      "text/plain": [
       "title\n",
       "Toy Story                          0\n",
       "Jumanji                            1\n",
       "Grumpier Old Men                   2\n",
       "Waiting to Exhale                  3\n",
       "Father of the Bride Part II        4\n",
       "                               ...  \n",
       "Robin Hood                     45449\n",
       "Century of Birthing            45450\n",
       "Betrayal                       45451\n",
       "Satan Triumphant               45452\n",
       "Queerama                       45453\n",
       "Length: 44513, dtype: int64"
      ]
     },
     "execution_count": 9,
     "metadata": {},
     "output_type": "execute_result"
    }
   ],
   "source": [
    "# Crear un índice para mapear los títulos a los índices, y nos aseguramos que no existan duplicados\n",
    "indices = pd.Series(df.index, index=df['title']).drop_duplicates()\n",
    "indices"
   ]
  },
  {
   "cell_type": "code",
   "execution_count": 10,
   "metadata": {},
   "outputs": [
    {
     "name": "stdout",
     "output_type": "stream",
     "text": [
      "La pelicula no existe\n"
     ]
    }
   ],
   "source": [
    "# Función que realiza la recomendación\n",
    "def recomendar_peliculas_M1(dato, cosine_sim = cosine_sim):\n",
    "    if df[df['title'] == dato].empty:\n",
    "        retorno = 'La pelicula no existe'\n",
    "    \n",
    "    else:\n",
    "        if (type(dato) == str):\n",
    "            # Obtengo la posicion\n",
    "            title = dato\n",
    "            posicion = df[df['title'] == dato].index[0]\n",
    "        elif (type(dato) == int):\n",
    "            # Obtenemos el nombre de la pelicula\n",
    "            title = df['title'][dato]\n",
    "            posicion = dato\n",
    "\n",
    "        idx = indices[posicion]   \n",
    "        sim_scores = list(enumerate(cosine_sim[idx]))\n",
    "        sim_scores = sorted(sim_scores, key=lambda x: x[1], reverse=True)\n",
    "        sim_scores = sim_scores[1:6]  # Recomendamos las 5 películas más similares\n",
    "        movie_indices = [i[0] for i in sim_scores]\n",
    "        retorno = (f'Pelicula seleccionada: {title}, id: {posicion}\\n\\nPensamos que te puede interesar:\\n{df['title'].iloc[movie_indices]}')\n",
    "    \n",
    "    return retorno \n",
    "\n",
    "# Prueba del modelo de recomendacion \n",
    "print(recomendar_peliculas_M1('fghfgh'))"
   ]
  },
  {
   "cell_type": "code",
   "execution_count": 11,
   "metadata": {},
   "outputs": [
    {
     "name": "stdout",
     "output_type": "stream",
     "text": [
      "Pelicula seleccionada: Titanic, id: 1641\n",
      "\n",
      "Pensamos que te puede interesar:\n",
      "1697               Welcome to Woop Woop\n",
      "34005             Jem and the Holograms\n",
      "6322                            Jubilee\n",
      "9453     The Saddest Music in the World\n",
      "11924                      O Lucky Man!\n",
      "Name: title, dtype: object\n"
     ]
    },
    {
     "name": "stderr",
     "output_type": "stream",
     "text": [
      "C:\\Users\\Usuario\\AppData\\Local\\Temp\\ipykernel_12256\\1322832937.py:16: FutureWarning: Series.__getitem__ treating keys as positions is deprecated. In a future version, integer keys will always be treated as labels (consistent with DataFrame behavior). To access a value by position, use `ser.iloc[pos]`\n",
      "  idx = indices[posicion]\n"
     ]
    }
   ],
   "source": [
    "# Prueba del modelo de recomendacion \n",
    "M1_test01 = recomendar_peliculas_M1('Titanic')\n",
    "print(M1_test01)"
   ]
  },
  {
   "cell_type": "code",
   "execution_count": 12,
   "metadata": {},
   "outputs": [
    {
     "name": "stdout",
     "output_type": "stream",
     "text": [
      "Pelicula seleccionada: Batman, id: 585\n",
      "\n",
      "Pensamos que te puede interesar:\n",
      "997     The Sword in the Stone\n",
      "1001                     Dumbo\n",
      "1612                 Anastasia\n",
      "1973        Lady and the Tramp\n",
      "1974        The Little Mermaid\n",
      "Name: title, dtype: object\n"
     ]
    },
    {
     "name": "stderr",
     "output_type": "stream",
     "text": [
      "C:\\Users\\Usuario\\AppData\\Local\\Temp\\ipykernel_12256\\1322832937.py:16: FutureWarning: Series.__getitem__ treating keys as positions is deprecated. In a future version, integer keys will always be treated as labels (consistent with DataFrame behavior). To access a value by position, use `ser.iloc[pos]`\n",
      "  idx = indices[posicion]\n"
     ]
    }
   ],
   "source": [
    "# Prueba del modelo de recomendacion \n",
    "M1_test02 = recomendar_peliculas_M1('Batman')\n",
    "print(M1_test02)"
   ]
  },
  {
   "cell_type": "code",
   "execution_count": 13,
   "metadata": {},
   "outputs": [
    {
     "name": "stdout",
     "output_type": "stream",
     "text": [
      "Pelicula seleccionada: Sabrina, id: 6\n",
      "\n",
      "Pensamos que te puede interesar:\n",
      "6               Sabrina\n",
      "51     Mighty Aphrodite\n",
      "63        Two If by Sea\n",
      "67         French Twist\n",
      "100           Mr. Wrong\n",
      "Name: title, dtype: object\n"
     ]
    },
    {
     "name": "stderr",
     "output_type": "stream",
     "text": [
      "C:\\Users\\Usuario\\AppData\\Local\\Temp\\ipykernel_12256\\1322832937.py:16: FutureWarning: Series.__getitem__ treating keys as positions is deprecated. In a future version, integer keys will always be treated as labels (consistent with DataFrame behavior). To access a value by position, use `ser.iloc[pos]`\n",
      "  idx = indices[posicion]\n"
     ]
    }
   ],
   "source": [
    "# Prueba del modelo de recomendacion \n",
    "M1_test03 = recomendar_peliculas_M1('Sabrina')\n",
    "print(M1_test03)"
   ]
  },
  {
   "cell_type": "code",
   "execution_count": 14,
   "metadata": {},
   "outputs": [
    {
     "name": "stdout",
     "output_type": "stream",
     "text": [
      "Pelicula seleccionada: Toy Story, id: 0\n",
      "\n",
      "Pensamos que te puede interesar:\n",
      "696              Oliver & Company\n",
      "727                 A Close Shave\n",
      "1111           The Wrong Trousers\n",
      "1720             Meet the Deedles\n",
      "1941    The Great Mouse Detective\n",
      "Name: title, dtype: object\n"
     ]
    },
    {
     "name": "stderr",
     "output_type": "stream",
     "text": [
      "C:\\Users\\Usuario\\AppData\\Local\\Temp\\ipykernel_12256\\1322832937.py:16: FutureWarning: Series.__getitem__ treating keys as positions is deprecated. In a future version, integer keys will always be treated as labels (consistent with DataFrame behavior). To access a value by position, use `ser.iloc[pos]`\n",
      "  idx = indices[posicion]\n"
     ]
    }
   ],
   "source": [
    "# Prueba del modelo de recomendacion \n",
    "M1_test04 = recomendar_peliculas_M1('Toy Story')\n",
    "print(M1_test04)"
   ]
  },
  {
   "cell_type": "code",
   "execution_count": 15,
   "metadata": {},
   "outputs": [
    {
     "name": "stdout",
     "output_type": "stream",
     "text": [
      "Pelicula seleccionada: Pinocchio, id: 589\n",
      "\n",
      "Pensamos que te puede interesar:\n",
      "315      Shallow Grave\n",
      "330     The Underneath\n",
      "476         Kalifornia\n",
      "593     Love and a .45\n",
      "1058    Reservoir Dogs\n",
      "Name: title, dtype: object\n"
     ]
    },
    {
     "name": "stderr",
     "output_type": "stream",
     "text": [
      "C:\\Users\\Usuario\\AppData\\Local\\Temp\\ipykernel_12256\\1322832937.py:16: FutureWarning: Series.__getitem__ treating keys as positions is deprecated. In a future version, integer keys will always be treated as labels (consistent with DataFrame behavior). To access a value by position, use `ser.iloc[pos]`\n",
      "  idx = indices[posicion]\n"
     ]
    }
   ],
   "source": [
    "# Prueba del modelo de recomendacion \n",
    "M1_test05 = recomendar_peliculas_M1('Pinocchio')\n",
    "print(M1_test05)"
   ]
  },
  {
   "cell_type": "code",
   "execution_count": 68,
   "metadata": {},
   "outputs": [
    {
     "name": "stdout",
     "output_type": "stream",
     "text": [
      "84 years later, a 101-year-old woman named Rose DeWitt Bukater tells the story to her granddaughter Lizzy Calvert, Brock Lovett, Lewis Bodine, Bobby Buell and Anatoly Mikailavich on the Keldysh about her life set in April 10th 1912, on a ship called Titanic when young Rose boards the departing ship with the upper-class passengers and her mother, Ruth DeWitt Bukater, and her fiancé, Caledon Hockley. Meanwhile, a drifter and artist named Jack Dawson and his best friend Fabrizio De Rossi win third-class tickets to the ship in a game. And she explains the whole story from departure until the death of Titanic on its first and last voyage April 15th, 1912 at 2:20 in the morning.\n",
      "Unhappily married, Julia Sturges decides to go to America with her two children on the unsinkable Titanic. Her husband, Richard also arranges passage on the luxury liner so as to have custody of their two children. All this fades to insignificance once the ship hits an iceberg.\n",
      "84 years later, a 101-year-old woman named Rose DeWitt Bukater tells the story to her granddaughter Lizzy Calvert, Brock Lovett, Lewis Bodine, Bobby Buell and Anatoly Mikailavich on the Keldysh about her life set in April 10th 1912, on a ship called Titanic when young Rose boards the departing ship with the upper-class passengers and her mother, Ruth DeWitt Bukater, and her fiancé, Caledon Hockley. Meanwhile, a drifter and artist named Jack Dawson and his best friend Fabrizio De Rossi win third-class tickets to the ship in a game. And she explains the whole story from departure until the death of Titanic on its first and last voyage April 15th, 1912 at 2:20 in the morning.\n"
     ]
    }
   ],
   "source": [
    "# Cuantas veces se encuentra Titanic en el dataset\n",
    "tit = df[df['title'] == 'Titanic']\n",
    "print(tit['overview'][1641])\n",
    "print(tit['overview'][3288])\n",
    "print(tit['overview'][1641])"
   ]
  },
  {
   "cell_type": "code",
   "execution_count": 24,
   "metadata": {},
   "outputs": [
    {
     "data": {
      "text/plain": [
       "title\n",
       "Batman     585\n",
       "Batman    8611\n",
       "dtype: int64"
      ]
     },
     "execution_count": 24,
     "metadata": {},
     "output_type": "execute_result"
    }
   ],
   "source": [
    "indices['Batman']"
   ]
  },
  {
   "cell_type": "code",
   "execution_count": 25,
   "metadata": {},
   "outputs": [
    {
     "data": {
      "text/plain": [
       "title\n",
       "Sabrina      6\n",
       "Sabrina    888\n",
       "dtype: int64"
      ]
     },
     "execution_count": 25,
     "metadata": {},
     "output_type": "execute_result"
    }
   ],
   "source": [
    "indices['Sabrina']"
   ]
  },
  {
   "cell_type": "code",
   "execution_count": 26,
   "metadata": {},
   "outputs": [
    {
     "data": {
      "text/plain": [
       "title\n",
       "Titanic     1641\n",
       "Titanic     3288\n",
       "Titanic    25492\n",
       "dtype: int64"
      ]
     },
     "execution_count": 26,
     "metadata": {},
     "output_type": "execute_result"
    }
   ],
   "source": [
    "indices['Titanic']"
   ]
  },
  {
   "cell_type": "markdown",
   "metadata": {},
   "source": [
    "El sistema debe ser capaz de recomendar por contenido cuando es elegida una pelicula, la finalidad es recomendar otra de caracteristicas similares como los casos que se muestran aquí, dado que no recomienda estas películas, el modelo no es funcional en su totalidad, tambien se observa que no exste variedad en la recomendación puesto que sólo retorna películas de indices pequeños, para mejorarlo, se agregan caracteríssticas al modelo, una de ellas es overview."
   ]
  },
  {
   "cell_type": "markdown",
   "metadata": {},
   "source": [
    "---\n",
    "Modelo de recomendación con las características overview y género\n",
    "---"
   ]
  },
  {
   "cell_type": "code",
   "execution_count": 16,
   "metadata": {},
   "outputs": [],
   "source": [
    "df['combined_features'] = df['genres'] + ' ' + df['overview']"
   ]
  },
  {
   "cell_type": "code",
   "execution_count": 17,
   "metadata": {},
   "outputs": [
    {
     "data": {
      "text/plain": [
       "\"Animation Comedy Family Led by Woody, Andy's toys live happily in his room until Andy's birthday brings Buzz Lightyear onto the scene. Afraid of losing his place in Andy's heart, Woody plots against Buzz. But when circumstances separate Buzz and Woody from their owner, the duo eventually learns to put aside their differences.\""
      ]
     },
     "execution_count": 17,
     "metadata": {},
     "output_type": "execute_result"
    }
   ],
   "source": [
    "df['combined_features'][0]"
   ]
  },
  {
   "cell_type": "code",
   "execution_count": 18,
   "metadata": {},
   "outputs": [],
   "source": [
    "# Vectorización\n",
    "tfidf = TfidfVectorizer(stop_words='english')\n",
    "tfidf_matrix = tfidf.fit_transform(df['combined_features'])"
   ]
  },
  {
   "cell_type": "code",
   "execution_count": 19,
   "metadata": {},
   "outputs": [],
   "source": [
    "# Calcular similitud del coseno\n",
    "cosine_sim = cosine_similarity(tfidf_matrix, tfidf_matrix)"
   ]
  },
  {
   "cell_type": "code",
   "execution_count": 20,
   "metadata": {},
   "outputs": [
    {
     "data": {
      "text/plain": [
       "title\n",
       "Toy Story                          0\n",
       "Jumanji                            1\n",
       "Grumpier Old Men                   2\n",
       "Waiting to Exhale                  3\n",
       "Father of the Bride Part II        4\n",
       "                               ...  \n",
       "Robin Hood                     45449\n",
       "Century of Birthing            45450\n",
       "Betrayal                       45451\n",
       "Satan Triumphant               45452\n",
       "Queerama                       45453\n",
       "Length: 44513, dtype: int64"
      ]
     },
     "execution_count": 20,
     "metadata": {},
     "output_type": "execute_result"
    }
   ],
   "source": [
    "# Crear un índice para mapear los títulos a los índices, y nos aseguramos que no existan duplicados\n",
    "indices = pd.Series(df.index, index=df['title']).drop_duplicates()\n",
    "indices"
   ]
  },
  {
   "cell_type": "code",
   "execution_count": 21,
   "metadata": {},
   "outputs": [
    {
     "name": "stdout",
     "output_type": "stream",
     "text": [
      "La pelicula no existe\n"
     ]
    }
   ],
   "source": [
    "# Función que realiza la recomendación\n",
    "def recomendar_peliculas_M2(dato, cosine_sim = cosine_sim):\n",
    "    if df[df['title'] == dato].empty:\n",
    "        retorno = 'La pelicula no existe'\n",
    "    \n",
    "    else:\n",
    "        if (type(dato) == str):\n",
    "            # Obtengo la posicion\n",
    "            title = dato\n",
    "            posicion = df[df['title'] == dato].index[0]\n",
    "        elif (type(dato) == int):\n",
    "            # Obtenemos el nombre de la pelicula\n",
    "            title = df['title'][dato]\n",
    "            posicion = dato\n",
    "\n",
    "        idx = indices[posicion]   \n",
    "        sim_scores = list(enumerate(cosine_sim[idx]))\n",
    "        sim_scores = sorted(sim_scores, key=lambda x: x[1], reverse=True)\n",
    "        sim_scores = sim_scores[1:6]  # Recomendamos las 5 películas más similares\n",
    "        movie_indices = [i[0] for i in sim_scores]\n",
    "        retorno = (f'Pelicula seleccionada: {title}, id: {posicion}\\n\\nPensamos que te puede interesar:\\n{df['title'].iloc[movie_indices]}')\n",
    "    \n",
    "    return retorno \n",
    "\n",
    "# Prueba del modelo de recomendacion \n",
    "print(recomendar_peliculas_M2('fghfgh'))"
   ]
  },
  {
   "cell_type": "code",
   "execution_count": 27,
   "metadata": {},
   "outputs": [
    {
     "name": "stdout",
     "output_type": "stream",
     "text": [
      "Pelicula seleccionada: Titanic, id: 1641\n",
      "\n",
      "Pensamos que te puede interesar:\n",
      "10247             A Touch of Spice\n",
      "26091    Swinging with the Finkels\n",
      "13251                  Girls Rock!\n",
      "29486    Girltrash: All Night Long\n",
      "1914                          Dune\n",
      "Name: title, dtype: object\n"
     ]
    },
    {
     "name": "stderr",
     "output_type": "stream",
     "text": [
      "C:\\Users\\Usuario\\AppData\\Local\\Temp\\ipykernel_12256\\2174510726.py:16: FutureWarning: Series.__getitem__ treating keys as positions is deprecated. In a future version, integer keys will always be treated as labels (consistent with DataFrame behavior). To access a value by position, use `ser.iloc[pos]`\n",
      "  idx = indices[posicion]\n"
     ]
    }
   ],
   "source": [
    "# Prueba del modelo de recomendacion \n",
    "M2_test01 = recomendar_peliculas_M2('Titanic')\n",
    "print(M2_test01)"
   ]
  },
  {
   "cell_type": "code",
   "execution_count": 28,
   "metadata": {},
   "outputs": [
    {
     "name": "stdout",
     "output_type": "stream",
     "text": [
      "Pelicula seleccionada: Batman, id: 585\n",
      "\n",
      "Pensamos que te puede interesar:\n",
      "36495          Pinocchio's Christmas\n",
      "803      The Adventures of Pinocchio\n",
      "27719                      Pinocchio\n",
      "17967                      Pinocchio\n",
      "30831            Pinocchio's Revenge\n",
      "Name: title, dtype: object\n"
     ]
    },
    {
     "name": "stderr",
     "output_type": "stream",
     "text": [
      "C:\\Users\\Usuario\\AppData\\Local\\Temp\\ipykernel_12256\\2174510726.py:16: FutureWarning: Series.__getitem__ treating keys as positions is deprecated. In a future version, integer keys will always be treated as labels (consistent with DataFrame behavior). To access a value by position, use `ser.iloc[pos]`\n",
      "  idx = indices[posicion]\n"
     ]
    }
   ],
   "source": [
    "# Prueba del modelo de recomendacion \n",
    "M2_test02 = recomendar_peliculas_M2('Batman')\n",
    "print(M2_test02)"
   ]
  },
  {
   "cell_type": "code",
   "execution_count": 29,
   "metadata": {},
   "outputs": [
    {
     "name": "stdout",
     "output_type": "stream",
     "text": [
      "Pelicula seleccionada: Sabrina, id: 6\n",
      "\n",
      "Pensamos que te puede interesar:\n",
      "44857                         Ugly Melanie\n",
      "11595            The Ugly Duckling and Me!\n",
      "4101                          The Brothers\n",
      "28426                  How to Fall in Love\n",
      "35578    Bakit Hindi Ka Crush Ng Crush Mo?\n",
      "Name: title, dtype: object\n"
     ]
    },
    {
     "name": "stderr",
     "output_type": "stream",
     "text": [
      "C:\\Users\\Usuario\\AppData\\Local\\Temp\\ipykernel_12256\\2174510726.py:16: FutureWarning: Series.__getitem__ treating keys as positions is deprecated. In a future version, integer keys will always be treated as labels (consistent with DataFrame behavior). To access a value by position, use `ser.iloc[pos]`\n",
      "  idx = indices[posicion]\n"
     ]
    }
   ],
   "source": [
    "# Prueba del modelo de recomendacion \n",
    "M2_test03 = recomendar_peliculas_M2('Sabrina')\n",
    "print(M2_test03)"
   ]
  },
  {
   "cell_type": "code",
   "execution_count": 30,
   "metadata": {},
   "outputs": [
    {
     "name": "stdout",
     "output_type": "stream",
     "text": [
      "Pelicula seleccionada: Toy Story, id: 0\n",
      "\n",
      "Pensamos que te puede interesar:\n",
      "15371                    Toy Story 3\n",
      "3000                     Toy Story 2\n",
      "24542                      Small Fry\n",
      "10312         The 40 Year Old Virgin\n",
      "23863    Andy Hardy's Blonde Trouble\n",
      "Name: title, dtype: object\n"
     ]
    },
    {
     "name": "stderr",
     "output_type": "stream",
     "text": [
      "C:\\Users\\Usuario\\AppData\\Local\\Temp\\ipykernel_12256\\2174510726.py:16: FutureWarning: Series.__getitem__ treating keys as positions is deprecated. In a future version, integer keys will always be treated as labels (consistent with DataFrame behavior). To access a value by position, use `ser.iloc[pos]`\n",
      "  idx = indices[posicion]\n"
     ]
    }
   ],
   "source": [
    "# Prueba del modelo de recomendacion \n",
    "M2_test04 = recomendar_peliculas_M2('Toy Story')\n",
    "print(M2_test04)"
   ]
  },
  {
   "cell_type": "code",
   "execution_count": 31,
   "metadata": {},
   "outputs": [
    {
     "name": "stdout",
     "output_type": "stream",
     "text": [
      "Pelicula seleccionada: Pinocchio, id: 589\n",
      "\n",
      "Pensamos que te puede interesar:\n",
      "1740              Nil by Mouth\n",
      "13844      Breakfast with Scot\n",
      "8969         Across the Tracks\n",
      "415      Beverly Hills Cop III\n",
      "37972                     Joey\n",
      "Name: title, dtype: object\n"
     ]
    },
    {
     "name": "stderr",
     "output_type": "stream",
     "text": [
      "C:\\Users\\Usuario\\AppData\\Local\\Temp\\ipykernel_12256\\2174510726.py:16: FutureWarning: Series.__getitem__ treating keys as positions is deprecated. In a future version, integer keys will always be treated as labels (consistent with DataFrame behavior). To access a value by position, use `ser.iloc[pos]`\n",
      "  idx = indices[posicion]\n"
     ]
    }
   ],
   "source": [
    "# Prueba del modelo de recomendacion \n",
    "M2_test05 = recomendar_peliculas_M2('Pinocchio')\n",
    "print(M2_test05)"
   ]
  },
  {
   "cell_type": "markdown",
   "metadata": {},
   "source": [
    "El sistema de recomendación mejoró puesto que en algunos casos hace la recomendación acorde a peliculas similares como el caso particular de Toy Story, en donde recomienda películas de la saga, en contraste al buscar el titulo de la pelicula Batman, la recomendación no funciona bien mismo caso con Pinocchio. Se agregará una característica más para mejorar el modelo."
   ]
  },
  {
   "cell_type": "markdown",
   "metadata": {},
   "source": [
    "---\n",
    "Modelo de recomendación con las características overview, género y production_companies\n",
    "---"
   ]
  },
  {
   "cell_type": "code",
   "execution_count": 32,
   "metadata": {},
   "outputs": [],
   "source": [
    "df['combined_features'] = df['genres'] + ' ' + df['overview'] + ' ' + df['production_companies']"
   ]
  },
  {
   "cell_type": "code",
   "execution_count": 33,
   "metadata": {},
   "outputs": [
    {
     "data": {
      "text/plain": [
       "\"Animation Comedy Family Led by Woody, Andy's toys live happily in his room until Andy's birthday brings Buzz Lightyear onto the scene. Afraid of losing his place in Andy's heart, Woody plots against Buzz. But when circumstances separate Buzz and Woody from their owner, the duo eventually learns to put aside their differences. Pixar Animation Studios\""
      ]
     },
     "execution_count": 33,
     "metadata": {},
     "output_type": "execute_result"
    }
   ],
   "source": [
    "# Agrega al final Pixar studios\n",
    "df['combined_features'][0]"
   ]
  },
  {
   "cell_type": "code",
   "execution_count": 34,
   "metadata": {},
   "outputs": [],
   "source": [
    "# Vectorización\n",
    "tfidf = TfidfVectorizer(stop_words='english')\n",
    "tfidf_matrix = tfidf.fit_transform(df['combined_features'])"
   ]
  },
  {
   "cell_type": "code",
   "execution_count": 35,
   "metadata": {},
   "outputs": [],
   "source": [
    "# Calcular similitud del coseno\n",
    "cosine_sim = cosine_similarity(tfidf_matrix, tfidf_matrix)"
   ]
  },
  {
   "cell_type": "code",
   "execution_count": 36,
   "metadata": {},
   "outputs": [
    {
     "data": {
      "text/plain": [
       "title\n",
       "Toy Story                          0\n",
       "Jumanji                            1\n",
       "Grumpier Old Men                   2\n",
       "Waiting to Exhale                  3\n",
       "Father of the Bride Part II        4\n",
       "                               ...  \n",
       "Robin Hood                     45449\n",
       "Century of Birthing            45450\n",
       "Betrayal                       45451\n",
       "Satan Triumphant               45452\n",
       "Queerama                       45453\n",
       "Length: 44513, dtype: int64"
      ]
     },
     "execution_count": 36,
     "metadata": {},
     "output_type": "execute_result"
    }
   ],
   "source": [
    "# Crear un índice para mapear los títulos a los índices, y nos aseguramos que no existan duplicados\n",
    "indices = pd.Series(df.index, index=df['title']).drop_duplicates()\n",
    "indices"
   ]
  },
  {
   "cell_type": "code",
   "execution_count": 37,
   "metadata": {},
   "outputs": [
    {
     "name": "stdout",
     "output_type": "stream",
     "text": [
      "La pelicula no existe\n"
     ]
    }
   ],
   "source": [
    "# Función que realiza la recomendación\n",
    "def recomendar_peliculas_M3(dato, cosine_sim = cosine_sim):\n",
    "    if df[df['title'] == dato].empty:\n",
    "        retorno = 'La pelicula no existe'\n",
    "    \n",
    "    else:\n",
    "        if (type(dato) == str):\n",
    "            # Obtengo la posicion\n",
    "            title = dato\n",
    "            posicion = df[df['title'] == dato].index[0]\n",
    "        elif (type(dato) == int):\n",
    "            # Obtenemos el nombre de la pelicula\n",
    "            title = df['title'][dato]\n",
    "            posicion = dato\n",
    "\n",
    "        idx = indices[posicion]   \n",
    "        sim_scores = list(enumerate(cosine_sim[idx]))\n",
    "        sim_scores = sorted(sim_scores, key=lambda x: x[1], reverse=True)\n",
    "        sim_scores = sim_scores[1:6]  # Recomendamos las 5 películas más similares\n",
    "        movie_indices = [i[0] for i in sim_scores]\n",
    "        retorno = (f'Pelicula seleccionada: {title}, id: {posicion}\\n\\nPensamos que te puede interesar:\\n{df['title'].iloc[movie_indices]}')\n",
    "    \n",
    "    return retorno \n",
    "\n",
    "# Prueba del modelo de recomendacion \n",
    "print(recomendar_peliculas_M3('fghfgh'))"
   ]
  },
  {
   "cell_type": "code",
   "execution_count": 38,
   "metadata": {},
   "outputs": [
    {
     "name": "stdout",
     "output_type": "stream",
     "text": [
      "Pelicula seleccionada: Titanic, id: 1641\n",
      "\n",
      "Pensamos que te puede interesar:\n",
      "10247             A Touch of Spice\n",
      "26091    Swinging with the Finkels\n",
      "13251                  Girls Rock!\n",
      "29486    Girltrash: All Night Long\n",
      "9340             Undertaking Betty\n",
      "Name: title, dtype: object\n"
     ]
    },
    {
     "name": "stderr",
     "output_type": "stream",
     "text": [
      "C:\\Users\\Usuario\\AppData\\Local\\Temp\\ipykernel_12256\\1265061261.py:16: FutureWarning: Series.__getitem__ treating keys as positions is deprecated. In a future version, integer keys will always be treated as labels (consistent with DataFrame behavior). To access a value by position, use `ser.iloc[pos]`\n",
      "  idx = indices[posicion]\n"
     ]
    }
   ],
   "source": [
    "# Prueba del modelo de recomendacion \n",
    "M3_test01 = recomendar_peliculas_M3('Titanic')\n",
    "print(M3_test01)"
   ]
  },
  {
   "cell_type": "code",
   "execution_count": 39,
   "metadata": {},
   "outputs": [
    {
     "name": "stdout",
     "output_type": "stream",
     "text": [
      "Pelicula seleccionada: Batman, id: 585\n",
      "\n",
      "Pensamos que te puede interesar:\n",
      "36495          Pinocchio's Christmas\n",
      "27719                      Pinocchio\n",
      "803      The Adventures of Pinocchio\n",
      "17967                      Pinocchio\n",
      "30831            Pinocchio's Revenge\n",
      "Name: title, dtype: object\n"
     ]
    },
    {
     "name": "stderr",
     "output_type": "stream",
     "text": [
      "C:\\Users\\Usuario\\AppData\\Local\\Temp\\ipykernel_12256\\1265061261.py:16: FutureWarning: Series.__getitem__ treating keys as positions is deprecated. In a future version, integer keys will always be treated as labels (consistent with DataFrame behavior). To access a value by position, use `ser.iloc[pos]`\n",
      "  idx = indices[posicion]\n"
     ]
    }
   ],
   "source": [
    "M3_test02 = recomendar_peliculas_M3('Batman')\n",
    "print(M3_test02)"
   ]
  },
  {
   "cell_type": "code",
   "execution_count": 40,
   "metadata": {},
   "outputs": [
    {
     "name": "stdout",
     "output_type": "stream",
     "text": [
      "Pelicula seleccionada: Sabrina, id: 6\n",
      "\n",
      "Pensamos que te puede interesar:\n",
      "18011                    Margaret\n",
      "21008    After School Midnighters\n",
      "1364                       Mother\n",
      "35246                 Zoolander 2\n",
      "44857                Ugly Melanie\n",
      "Name: title, dtype: object\n"
     ]
    },
    {
     "name": "stderr",
     "output_type": "stream",
     "text": [
      "C:\\Users\\Usuario\\AppData\\Local\\Temp\\ipykernel_12256\\1265061261.py:16: FutureWarning: Series.__getitem__ treating keys as positions is deprecated. In a future version, integer keys will always be treated as labels (consistent with DataFrame behavior). To access a value by position, use `ser.iloc[pos]`\n",
      "  idx = indices[posicion]\n"
     ]
    }
   ],
   "source": [
    "M3_test03 = recomendar_peliculas_M3('Sabrina')\n",
    "print(M3_test03)"
   ]
  },
  {
   "cell_type": "code",
   "execution_count": 41,
   "metadata": {},
   "outputs": [
    {
     "name": "stderr",
     "output_type": "stream",
     "text": [
      "C:\\Users\\Usuario\\AppData\\Local\\Temp\\ipykernel_12256\\1265061261.py:16: FutureWarning: Series.__getitem__ treating keys as positions is deprecated. In a future version, integer keys will always be treated as labels (consistent with DataFrame behavior). To access a value by position, use `ser.iloc[pos]`\n",
      "  idx = indices[posicion]\n"
     ]
    },
    {
     "name": "stdout",
     "output_type": "stream",
     "text": [
      "Pelicula seleccionada: Toy Story, id: 0\n",
      "\n",
      "Pensamos que te puede interesar:\n",
      "15371                    Toy Story 3\n",
      "3000                     Toy Story 2\n",
      "24542                      Small Fry\n",
      "10312         The 40 Year Old Virgin\n",
      "23863    Andy Hardy's Blonde Trouble\n",
      "Name: title, dtype: object\n"
     ]
    }
   ],
   "source": [
    "M3_test04 = recomendar_peliculas_M3('Toy Story')\n",
    "print(M3_test04)"
   ]
  },
  {
   "cell_type": "code",
   "execution_count": 42,
   "metadata": {},
   "outputs": [
    {
     "name": "stdout",
     "output_type": "stream",
     "text": [
      "Pelicula seleccionada: Pinocchio, id: 589\n",
      "\n",
      "Pensamos que te puede interesar:\n",
      "13844      Breakfast with Scot\n",
      "1740              Nil by Mouth\n",
      "8969         Across the Tracks\n",
      "415      Beverly Hills Cop III\n",
      "13951                Blue City\n",
      "Name: title, dtype: object\n"
     ]
    },
    {
     "name": "stderr",
     "output_type": "stream",
     "text": [
      "C:\\Users\\Usuario\\AppData\\Local\\Temp\\ipykernel_12256\\1265061261.py:16: FutureWarning: Series.__getitem__ treating keys as positions is deprecated. In a future version, integer keys will always be treated as labels (consistent with DataFrame behavior). To access a value by position, use `ser.iloc[pos]`\n",
      "  idx = indices[posicion]\n"
     ]
    }
   ],
   "source": [
    "M3_test05 = recomendar_peliculas_M3('Pinocchio')\n",
    "print(M3_test05)"
   ]
  },
  {
   "cell_type": "markdown",
   "metadata": {},
   "source": [
    "Al agregarle la característica production_companies no se observó mejora en el modelo"
   ]
  },
  {
   "cell_type": "markdown",
   "metadata": {},
   "source": [
    "---\n",
    "Modelo de recomendación con las características overview, género, production_companies y director\n",
    "---"
   ]
  },
  {
   "cell_type": "code",
   "execution_count": 87,
   "metadata": {},
   "outputs": [],
   "source": [
    "# Caracteristicas combinadas\n",
    "df['combined_features'] = df['genres'] + ' ' + df['overview'] + ' ' + df['production_companies'] + ' ' + df['director']"
   ]
  },
  {
   "cell_type": "code",
   "execution_count": 94,
   "metadata": {},
   "outputs": [
    {
     "data": {
      "text/plain": [
       "\"Animation Comedy Family Led by Woody, Andy's toys live happily in his room until Andy's birthday brings Buzz Lightyear onto the scene. Afraid of losing his place in Andy's heart, Woody plots against Buzz. But when circumstances separate Buzz and Woody from their owner, the duo eventually learns to put aside their differences. Pixar Animation Studios John Lasseter\""
      ]
     },
     "execution_count": 94,
     "metadata": {},
     "output_type": "execute_result"
    }
   ],
   "source": [
    "df['combined_features'][0]"
   ]
  },
  {
   "cell_type": "code",
   "execution_count": 89,
   "metadata": {},
   "outputs": [],
   "source": [
    "# Vectorización\n",
    "tfidf = TfidfVectorizer(stop_words='english')\n",
    "tfidf_matrix = tfidf.fit_transform(df['combined_features'])"
   ]
  },
  {
   "cell_type": "code",
   "execution_count": 90,
   "metadata": {},
   "outputs": [],
   "source": [
    "# Calcular similitud del coseno\n",
    "cosine_sim = cosine_similarity(tfidf_matrix, tfidf_matrix)"
   ]
  },
  {
   "cell_type": "code",
   "execution_count": 91,
   "metadata": {},
   "outputs": [
    {
     "data": {
      "text/plain": [
       "title\n",
       "Toy Story                          0\n",
       "Jumanji                            1\n",
       "Grumpier Old Men                   2\n",
       "Waiting to Exhale                  3\n",
       "Father of the Bride Part II        4\n",
       "                               ...  \n",
       "Robin Hood                     45449\n",
       "Century of Birthing            45450\n",
       "Betrayal                       45451\n",
       "Satan Triumphant               45452\n",
       "Queerama                       45453\n",
       "Length: 44513, dtype: int64"
      ]
     },
     "execution_count": 91,
     "metadata": {},
     "output_type": "execute_result"
    }
   ],
   "source": [
    "# Crear un índice para mapear los títulos a los índices, y nos aseguramos que no existan duplicados\n",
    "indices = pd.Series(df.index, index=df['title']).drop_duplicates()\n",
    "indices"
   ]
  },
  {
   "cell_type": "code",
   "execution_count": 92,
   "metadata": {},
   "outputs": [
    {
     "name": "stdout",
     "output_type": "stream",
     "text": [
      "La pelicula no existe\n"
     ]
    }
   ],
   "source": [
    "# Función que realiza la recomendación\n",
    "def recomendar_peliculas_M4(dato, cosine_sim = cosine_sim):\n",
    "    if df[df['title'] == dato].empty:\n",
    "        retorno = 'La pelicula no existe'\n",
    "    \n",
    "    else:\n",
    "        if (type(dato) == str):\n",
    "            # Obtengo la posicion\n",
    "            title = dato\n",
    "            posicion = df[df['title'] == dato].index[0]\n",
    "        elif (type(dato) == int):\n",
    "            # Obtenemos el nombre de la pelicula\n",
    "            title = df['title'][dato]\n",
    "            posicion = dato\n",
    "\n",
    "        idx = indices[posicion]   \n",
    "        sim_scores = list(enumerate(cosine_sim[idx]))\n",
    "        sim_scores = sorted(sim_scores, key=lambda x: x[1], reverse=True)\n",
    "        sim_scores = sim_scores[1:6]  # Recomendamos las 5 películas más similares\n",
    "        movie_indices = [i[0] for i in sim_scores]\n",
    "        retorno = (f'Pelicula seleccionada: {title}, id: {posicion}\\n\\nPensamos que te puede interesar:\\n{df['title'].iloc[movie_indices]}')\n",
    "    \n",
    "    return retorno \n",
    "\n",
    "# Prueba del modelo de recomendacion \n",
    "print(recomendar_peliculas_M3('fghfgh'))"
   ]
  },
  {
   "cell_type": "code",
   "execution_count": 93,
   "metadata": {},
   "outputs": [
    {
     "name": "stdout",
     "output_type": "stream",
     "text": [
      "Pelicula seleccionada: Titanic, id: 1641\n",
      "\n",
      "Pensamos que te puede interesar:\n",
      "10247             A Touch of Spice\n",
      "26091    Swinging with the Finkels\n",
      "13251                  Girls Rock!\n",
      "29486    Girltrash: All Night Long\n",
      "9340             Undertaking Betty\n",
      "Name: title, dtype: object\n",
      "Pelicula seleccionada: Batman, id: 585\n",
      "\n",
      "Pensamos que te puede interesar:\n",
      "36495          Pinocchio's Christmas\n",
      "27719                      Pinocchio\n",
      "803      The Adventures of Pinocchio\n",
      "17967                      Pinocchio\n",
      "30831            Pinocchio's Revenge\n",
      "Name: title, dtype: object\n",
      "Pelicula seleccionada: Sabrina, id: 6\n",
      "\n",
      "Pensamos que te puede interesar:\n",
      "18011                    Margaret\n",
      "21008    After School Midnighters\n",
      "1364                       Mother\n",
      "35246                 Zoolander 2\n",
      "44857                Ugly Melanie\n",
      "Name: title, dtype: object\n",
      "Pelicula seleccionada: Toy Story, id: 0\n",
      "\n",
      "Pensamos que te puede interesar:\n",
      "15371                    Toy Story 3\n",
      "3000                     Toy Story 2\n",
      "24542                      Small Fry\n",
      "10312         The 40 Year Old Virgin\n",
      "23863    Andy Hardy's Blonde Trouble\n",
      "Name: title, dtype: object\n",
      "Pelicula seleccionada: Pinocchio, id: 589\n",
      "\n",
      "Pensamos que te puede interesar:\n",
      "13844      Breakfast with Scot\n",
      "1740              Nil by Mouth\n",
      "8969         Across the Tracks\n",
      "415      Beverly Hills Cop III\n",
      "13951                Blue City\n",
      "Name: title, dtype: object\n"
     ]
    },
    {
     "name": "stderr",
     "output_type": "stream",
     "text": [
      "C:\\Users\\Usuario\\AppData\\Local\\Temp\\ipykernel_27636\\1265061261.py:16: FutureWarning: Series.__getitem__ treating keys as positions is deprecated. In a future version, integer keys will always be treated as labels (consistent with DataFrame behavior). To access a value by position, use `ser.iloc[pos]`\n",
      "  idx = indices[posicion]\n"
     ]
    }
   ],
   "source": [
    "M4_test01 = recomendar_peliculas_M3('Titanic')\n",
    "print(M4_test01)\n",
    "M4_test02 = recomendar_peliculas_M3('Batman')\n",
    "print(M4_test02)\n",
    "M4_test03 = recomendar_peliculas_M3('Sabrina')\n",
    "print(M4_test03)\n",
    "M4_test04 = recomendar_peliculas_M3('Toy Story')\n",
    "print(M4_test04)\n",
    "M4_test05 = recomendar_peliculas_M3('Pinocchio')\n",
    "print(M4_test05)"
   ]
  },
  {
   "cell_type": "markdown",
   "metadata": {},
   "source": [
    "El modelo no mostró mejora en cuanto a la reomendacion de algunas películas como Batman y Piocchio.\n",
    "Tal vez el orden de las columnas afecte en la recomendación "
   ]
  },
  {
   "cell_type": "markdown",
   "metadata": {},
   "source": [
    "---\n",
    "Modelo de recomendación con las características overview, género, production_companies, actores y director\n",
    "---"
   ]
  },
  {
   "cell_type": "code",
   "execution_count": 113,
   "metadata": {},
   "outputs": [
    {
     "data": {
      "text/plain": [
       "\"The Dark Knight of Gotham City begins his war on crime with his first major enemy being the clownishly homicidal Joker, who has seized control of Gotham's underworld. Fantasy Action PolyGram Filmed Entertainment The Guber-Peters Company Warner Bros. United Kingdom United States of America Tim Burton Jack Nicholson Michael Keaton Kim Basinger Michael Gough Pat Hingle Billy Dee Williams Jack Palance Jerry Hall Tracey Walter Lee Wallace William Hootkins Edwin Craig Robert Wuhl Vincent Wong Richard Strange Christopher Fairbank Richard Durden Sam Douglas Steve Plytas\""
      ]
     },
     "execution_count": 113,
     "metadata": {},
     "output_type": "execute_result"
    }
   ],
   "source": [
    "# se definen las caractersticas a analizar en una sola columna\n",
    "df['combined_features'] =  df['overview'] + ' ' + df['genres'] + ' ' + df['production_companies'] + ' ' + df['production_countries'] + ' ' + df['director'] + ' ' + df['actor_names']\n",
    "df['combined_features'][585]"
   ]
  },
  {
   "cell_type": "code",
   "execution_count": 100,
   "metadata": {},
   "outputs": [
    {
     "data": {
      "text/plain": [
       "title\n",
       "Toy Story                          0\n",
       "Jumanji                            1\n",
       "Grumpier Old Men                   2\n",
       "Waiting to Exhale                  3\n",
       "Father of the Bride Part II        4\n",
       "                               ...  \n",
       "Robin Hood                     45449\n",
       "Century of Birthing            45450\n",
       "Betrayal                       45451\n",
       "Satan Triumphant               45452\n",
       "Queerama                       45453\n",
       "Length: 44513, dtype: int64"
      ]
     },
     "execution_count": 100,
     "metadata": {},
     "output_type": "execute_result"
    }
   ],
   "source": [
    " # Vectorización\n",
    "tfidf = TfidfVectorizer(stop_words='english')\n",
    "tfidf_matrix = tfidf.fit_transform(df['combined_features'])\n",
    "\n",
    "# Calcular similitud del coseno\n",
    "cosine_sim = cosine_similarity(tfidf_matrix, tfidf_matrix)\n",
    "\n",
    "# Crear un índice para mapear los títulos a los índices, y nos aseguramos que no existan duplicados\n",
    "indices = pd.Series(df.index, index=df['title']).drop_duplicates()\n",
    "indices"
   ]
  },
  {
   "cell_type": "code",
   "execution_count": 109,
   "metadata": {},
   "outputs": [
    {
     "name": "stdout",
     "output_type": "stream",
     "text": [
      "La pelicula no existe\n"
     ]
    }
   ],
   "source": [
    "# Función que realiza la recomendación\n",
    "def recomendar_peliculas_M5(dato, cosine_sim = cosine_sim):\n",
    "    if df[df['title'] == dato].empty:\n",
    "        retorno = 'La pelicula no existe'\n",
    "    \n",
    "    else:\n",
    "        if (type(dato) == str):\n",
    "            # Obtengo la posicion\n",
    "            title = dato\n",
    "            posicion = df[df['title'] == dato].index[0]\n",
    "        elif (type(dato) == int):\n",
    "            # Obtenemos el nombre de la pelicula\n",
    "            title = df['title'][dato]\n",
    "            posicion = dato\n",
    "\n",
    "        idx = indices[posicion]   \n",
    "        sim_scores = list(enumerate(cosine_sim[idx]))\n",
    "        sim_scores = sorted(sim_scores, key=lambda x: x[1], reverse=True)\n",
    "        sim_scores = sim_scores[1:6]  # Recomendamos las 5 películas más similares\n",
    "        movie_indices = [i[0] for i in sim_scores]\n",
    "        retorno = (f'\\n\\nPelicula seleccionada: {title}, id: {posicion}\\nPensamos que te puede interesar:\\n{df['title'].iloc[movie_indices]}\\n\\n')\n",
    "    \n",
    "    return retorno \n",
    "\n",
    "# Prueba del modelo de recomendacion \n",
    "print(recomendar_peliculas_M5('fghfgh'))"
   ]
  },
  {
   "cell_type": "code",
   "execution_count": 110,
   "metadata": {},
   "outputs": [
    {
     "name": "stdout",
     "output_type": "stream",
     "text": [
      "Pelicula seleccionada: Titanic, id: 1641\n",
      "\n",
      "Pensamos que te puede interesar:\n",
      "10247             A Touch of Spice\n",
      "26091    Swinging with the Finkels\n",
      "13251                  Girls Rock!\n",
      "29486    Girltrash: All Night Long\n",
      "9340             Undertaking Betty\n",
      "Name: title, dtype: object\n",
      "Pelicula seleccionada: Batman, id: 585\n",
      "\n",
      "Pensamos que te puede interesar:\n",
      "36495          Pinocchio's Christmas\n",
      "27719                      Pinocchio\n",
      "803      The Adventures of Pinocchio\n",
      "17967                      Pinocchio\n",
      "30831            Pinocchio's Revenge\n",
      "Name: title, dtype: object\n",
      "Pelicula seleccionada: Sabrina, id: 6\n",
      "\n",
      "Pensamos que te puede interesar:\n",
      "18011                    Margaret\n",
      "21008    After School Midnighters\n",
      "1364                       Mother\n",
      "35246                 Zoolander 2\n",
      "44857                Ugly Melanie\n",
      "Name: title, dtype: object\n",
      "Pelicula seleccionada: Toy Story, id: 0\n",
      "\n",
      "Pensamos que te puede interesar:\n",
      "15371                    Toy Story 3\n",
      "3000                     Toy Story 2\n",
      "24542                      Small Fry\n",
      "10312         The 40 Year Old Virgin\n",
      "23863    Andy Hardy's Blonde Trouble\n",
      "Name: title, dtype: object\n",
      "Pelicula seleccionada: Pinocchio, id: 589\n",
      "\n",
      "Pensamos que te puede interesar:\n",
      "13844      Breakfast with Scot\n",
      "1740              Nil by Mouth\n",
      "8969         Across the Tracks\n",
      "415      Beverly Hills Cop III\n",
      "13951                Blue City\n",
      "Name: title, dtype: object\n"
     ]
    },
    {
     "name": "stderr",
     "output_type": "stream",
     "text": [
      "C:\\Users\\Usuario\\AppData\\Local\\Temp\\ipykernel_27636\\1265061261.py:16: FutureWarning: Series.__getitem__ treating keys as positions is deprecated. In a future version, integer keys will always be treated as labels (consistent with DataFrame behavior). To access a value by position, use `ser.iloc[pos]`\n",
      "  idx = indices[posicion]\n"
     ]
    }
   ],
   "source": [
    "# Prueba del modelo de recomendacion \n",
    "print(recomendar_peliculas_M5('fghfgh'))\n",
    "M5_test01 = recomendar_peliculas_M3('Titanic')\n",
    "print(M5_test01)\n",
    "M5_test02 = recomendar_peliculas_M3('Batman')\n",
    "print(M5_test02)\n",
    "M5_test03 = recomendar_peliculas_M3('Sabrina')\n",
    "print(M5_test03)\n",
    "M5_test04 = recomendar_peliculas_M3('Toy Story')\n",
    "print(M5_test04)\n",
    "M5_test05 = recomendar_peliculas_M3('Pinocchio')\n",
    "print(M5_test05)"
   ]
  },
  {
   "cell_type": "code",
   "execution_count": 23,
   "metadata": {},
   "outputs": [
    {
     "name": "stdout",
     "output_type": "stream",
     "text": [
      "La pelicula no existe\n",
      "<class 'numpy.int64'>\n"
     ]
    },
    {
     "ename": "TypeError",
     "evalue": "'list' object is not callable",
     "output_type": "error",
     "traceback": [
      "\u001b[1;31m---------------------------------------------------------------------------\u001b[0m",
      "\u001b[1;31mTypeError\u001b[0m                                 Traceback (most recent call last)",
      "Cell \u001b[1;32mIn[23], line 52\u001b[0m\n\u001b[0;32m     49\u001b[0m \u001b[38;5;66;03m# Prueba del modelo de recomendacion \u001b[39;00m\n\u001b[0;32m     50\u001b[0m \u001b[38;5;28mprint\u001b[39m(recomendar_peliculas_M6(\u001b[38;5;124m'\u001b[39m\u001b[38;5;124mfghfgh\u001b[39m\u001b[38;5;124m'\u001b[39m))\n\u001b[1;32m---> 52\u001b[0m M6_test01 \u001b[38;5;241m=\u001b[39m \u001b[43mrecomendar_peliculas_M6\u001b[49m\u001b[43m(\u001b[49m\u001b[38;5;124;43m'\u001b[39;49m\u001b[38;5;124;43mBatman\u001b[39;49m\u001b[38;5;124;43m'\u001b[39;49m\u001b[43m)\u001b[49m\n\u001b[0;32m     53\u001b[0m \u001b[38;5;28mprint\u001b[39m(M6_test01)\n\u001b[0;32m     54\u001b[0m \u001b[38;5;66;03m# M6_test02 = recomendar_peliculas_M6('Batman')\u001b[39;00m\n\u001b[0;32m     55\u001b[0m \u001b[38;5;66;03m# print(M6_test02)\u001b[39;00m\n\u001b[0;32m     56\u001b[0m \u001b[38;5;66;03m# M6_test03 = recomendar_peliculas_M6('Star Wars')\u001b[39;00m\n\u001b[1;32m   (...)\u001b[0m\n\u001b[0;32m     60\u001b[0m \u001b[38;5;66;03m# M6_test05 = recomendar_peliculas_M6('Pinocchio')\u001b[39;00m\n\u001b[0;32m     61\u001b[0m \u001b[38;5;66;03m# print(M6_test05)\u001b[39;00m\n",
      "Cell \u001b[1;32mIn[23], line 39\u001b[0m, in \u001b[0;36mrecomendar_peliculas_M6\u001b[1;34m(dato, cosine_sim)\u001b[0m\n\u001b[0;32m     37\u001b[0m posicion \u001b[38;5;241m=\u001b[39m df[df[\u001b[38;5;124m'\u001b[39m\u001b[38;5;124mtitle\u001b[39m\u001b[38;5;124m'\u001b[39m] \u001b[38;5;241m==\u001b[39m dato]\u001b[38;5;241m.\u001b[39mindex[\u001b[38;5;241m0\u001b[39m]\n\u001b[0;32m     38\u001b[0m \u001b[38;5;28mprint\u001b[39m(\u001b[38;5;28mtype\u001b[39m(posicion))\n\u001b[1;32m---> 39\u001b[0m sim_scores \u001b[38;5;241m=\u001b[39m \u001b[38;5;28;43mlist\u001b[39;49m\u001b[43m(\u001b[49m\u001b[38;5;28;43menumerate\u001b[39;49m\u001b[43m(\u001b[49m\u001b[43mcosine_sim\u001b[49m\u001b[43m[\u001b[49m\u001b[43mposicion\u001b[49m\u001b[43m]\u001b[49m\u001b[43m)\u001b[49m\u001b[43m)\u001b[49m\n\u001b[0;32m     40\u001b[0m sim_scores \u001b[38;5;241m=\u001b[39m \u001b[38;5;28msorted\u001b[39m(sim_scores, key\u001b[38;5;241m=\u001b[39m\u001b[38;5;28;01mlambda\u001b[39;00m x: x[\u001b[38;5;241m1\u001b[39m], reverse\u001b[38;5;241m=\u001b[39m\u001b[38;5;28;01mTrue\u001b[39;00m)\n\u001b[0;32m     41\u001b[0m sim_scores \u001b[38;5;241m=\u001b[39m sim_scores[\u001b[38;5;241m1\u001b[39m:\u001b[38;5;241m6\u001b[39m]  \u001b[38;5;66;03m# Recomendamos las 5 películas similares\u001b[39;00m\n",
      "\u001b[1;31mTypeError\u001b[0m: 'list' object is not callable"
     ]
    }
   ],
   "source": [
    "# Librerias\n",
    "import pandas as pd\n",
    "import numpy as np\n",
    "from sklearn.feature_extraction.text import TfidfVectorizer\n",
    "from sklearn.metrics.pairwise import cosine_similarity\n",
    "\n",
    "\n",
    "# Carga el dataset de películas\n",
    "df = pd.read_parquet('Data/dataset_movies_to_ML.parquet')\n",
    "\n",
    "\n",
    "# Se convierten las columnas produccion_companies, production_companies, 'production_countries', 'director' y 'actor_names' en texto\n",
    "# Convierte arrays de numpy a cadenas de texto por cada columna\n",
    "df['genres'] = df['genres'].apply(lambda x: ' '.join(x))\n",
    "df['production_companies'] = df['production_companies'].apply(lambda x: ' '.join(x))\n",
    "df['production_countries'] = df['production_countries'].apply(lambda x: ' '.join(x))\n",
    "df['director'] = df['director'].apply(lambda x: ' '.join(x))\n",
    "df['actor_names'] = df['actor_names'].apply(lambda x: ' '.join(x))\n",
    "\n",
    "\n",
    "# Se combinan las características a pasar al modelo\n",
    "df['combined_features'] =  df['overview'] + ' ' + df['genres'] + ' ' + df['production_companies'] + ' ' + df['production_countries'] + ' ' + df['director'] + ' ' + df['actor_names']\n",
    "\n",
    "\n",
    "# Vectorización\n",
    "tfidf = TfidfVectorizer(stop_words='english')\n",
    "tfidf_matrix = tfidf.fit_transform(df['overview'])\n",
    "\n",
    "# Calcular similitud del coseno\n",
    "cosine_sim = cosine_similarity(tfidf_matrix, tfidf_matrix)\n",
    "\n",
    "# Función que realiza la recomendación\n",
    "def recomendar_peliculas_M6(dato, cosine_sim = cosine_sim):\n",
    "    if len(df[df['title'] == dato]) == 0:\n",
    "        retorno = 'La pelicula no existe'\n",
    "    else:\n",
    "        posicion = df[df['title'] == dato].index[0]\n",
    "        print(type(posicion))\n",
    "        sim_scores = list(enumerate(cosine_sim[posicion]))\n",
    "        sim_scores = sorted(sim_scores, key=lambda x: x[1], reverse=True)\n",
    "        sim_scores = sim_scores[1:6]  # Recomendamos las 5 películas similares\n",
    "        movie_indices = [i[0] for i in sim_scores]\n",
    "        retorno = (f'Pelicula seleccionada: {dato}, id: {posicion}\\nPensamos que te puede interesar:\\n{df['title'].iloc[movie_indices]}\\n\\n')\n",
    "\n",
    "    return retorno \n",
    "\n",
    "\n",
    "\n",
    "# Prueba del modelo de recomendacion \n",
    "print(recomendar_peliculas_M6('fghfgh'))\n",
    "\n",
    "M6_test01 = recomendar_peliculas_M6('Batman')\n",
    "print(M6_test01)\n",
    "# M6_test02 = recomendar_peliculas_M6('Batman')\n",
    "# print(M6_test02)\n",
    "# M6_test03 = recomendar_peliculas_M6('Star Wars')\n",
    "# print(M6_test03)\n",
    "# M6_test04 = recomendar_peliculas_M6('Toy Story')\n",
    "# print(M6_test04)\n",
    "# M6_test05 = recomendar_peliculas_M6('Pinocchio')\n",
    "# print(M6_test05)\n",
    "\n",
    "\n",
    "\n"
   ]
  },
  {
   "cell_type": "code",
   "execution_count": 22,
   "metadata": {},
   "outputs": [
    {
     "data": {
      "text/plain": [
       "6"
      ]
     },
     "execution_count": 22,
     "metadata": {},
     "output_type": "execute_result"
    }
   ],
   "source": [
    "indices = pd.Series(df.index, index=df['title']).drop_duplicates()\n",
    "\n",
    "def comprobar_pelicula(titulo):\n",
    "    idx = -1\n",
    "    for i, ind in enumerate (indices):\n",
    "        if titulo == indices.index[i]:\n",
    "            idx = i\n",
    "            break\n",
    "    return idx\n",
    "\n",
    "bat = comprobar_pelicula('Sabrina')\n",
    "bat"
   ]
  },
  {
   "cell_type": "markdown",
   "metadata": {},
   "source": [
    "---\n",
    "---\n",
    "---"
   ]
  },
  {
   "cell_type": "code",
   "execution_count": null,
   "metadata": {},
   "outputs": [],
   "source": [
    "# Vectorización\n",
    "tfidf = TfidfVectorizer(stop_words='english')\n",
    "tfidf_matrix = tfidf.fit_transform(df['overview'])\n",
    "\n",
    "# Calcular similitud del coseno\n",
    "cosine_sim = cosine_similarity(tfidf_matrix, tfidf_matrix)\n",
    "\n",
    "# Crear un índice para mapear los títulos a los índices, y nos aseguramos que no existan duplicados\n",
    "indices = pd.Series(df.index, index=df['title']).drop_duplicates()"
   ]
  },
  {
   "cell_type": "code",
   "execution_count": 49,
   "metadata": {},
   "outputs": [],
   "source": [
    "# Función que realiza la recomendación\n",
    "def recomendar_peliculas_M10(dato, cosine_sim = cosine_sim):\n",
    "    posicion = dato\n",
    "    sim_scores = list(enumerate(cosine_sim[posicion]))\n",
    "    sim_scores = sorted(sim_scores, key=lambda x: x[1], reverse=True)\n",
    "    sim_scores = sim_scores[1:6]  # Recomendamos las 5 películas similares\n",
    "    movie_indices = [i[0] for i in sim_scores]\n",
    "    retorno = (f'id Pelicula seleccionada: {dato}\\nPensamos que te puede interesar:\\n{df['title'].iloc[movie_indices]}\\n\\n')\n",
    "    return retorno "
   ]
  },
  {
   "cell_type": "code",
   "execution_count": 50,
   "metadata": {},
   "outputs": [],
   "source": [
    "# Función para comprobar existencia de peliculas, retorna el indice de la primera que encuentre\n",
    "def comprobar_pelicula(titulo):\n",
    "    idx = -1\n",
    "    for i, ind in enumerate (indices):\n",
    "        if titulo == indices.index[i]:\n",
    "            idx = i\n",
    "            break\n",
    "    if idx < 0:\n",
    "        retorno = 'La pelicula no existe en la DB'\n",
    "    else:\n",
    "        retorno = recomendar_peliculas_M10(idx)\n",
    "    return retorno"
   ]
  },
  {
   "cell_type": "code",
   "execution_count": 51,
   "metadata": {},
   "outputs": [
    {
     "name": "stdout",
     "output_type": "stream",
     "text": [
      "La pelicula no existe en la DB\n",
      "Pelicula seleccionada: 1625, id: 1625\n",
      "Pensamos que te puede interesar:\n",
      "3287      Raise the Titanic\n",
      "26985    Sailor of the King\n",
      "38679          Dustbin Baby\n",
      "2579     The Legend of 1900\n",
      "3288                Titanic\n",
      "Name: title, dtype: object\n",
      "\n",
      "\n",
      "Pelicula seleccionada: 583, id: 583\n",
      "Pensamos que te puede interesar:\n",
      "9239     Batman Beyond: Return of the Joker\n",
      "18276                 The Dark Knight Rises\n",
      "25286                     Batman vs Dracula\n",
      "1493                         Batman & Robin\n",
      "15534            Batman: Under the Red Hood\n",
      "Name: title, dtype: object\n",
      "\n",
      "\n",
      "Pelicula seleccionada: 6, id: 6\n",
      "Pensamos que te puede interesar:\n",
      "18011                    Margaret\n",
      "21008    After School Midnighters\n",
      "1364                       Mother\n",
      "35246                 Zoolander 2\n",
      "44857                Ugly Melanie\n",
      "Name: title, dtype: object\n",
      "\n",
      "\n",
      "Pelicula seleccionada: 0, id: 0\n",
      "Pensamos que te puede interesar:\n",
      "15371                    Toy Story 3\n",
      "3000                     Toy Story 2\n",
      "24542                      Small Fry\n",
      "10312         The 40 Year Old Virgin\n",
      "23863    Andy Hardy's Blonde Trouble\n",
      "Name: title, dtype: object\n",
      "\n",
      "\n",
      "Pelicula seleccionada: 587, id: 587\n",
      "Pensamos que te puede interesar:\n",
      "36495          Pinocchio's Christmas\n",
      "27719                      Pinocchio\n",
      "803      The Adventures of Pinocchio\n",
      "17967                      Pinocchio\n",
      "30831            Pinocchio's Revenge\n",
      "Name: title, dtype: object\n",
      "\n",
      "\n"
     ]
    }
   ],
   "source": [
    "# Prueba del modelo de recomendacion \n",
    "print(comprobar_pelicula('fghfgh'))\n",
    "M10_test01 = comprobar_pelicula('Titanic')\n",
    "print(M10_test01)\n",
    "M10_test02 = comprobar_pelicula('Batman')\n",
    "print(M10_test02)\n",
    "M10_test03 = comprobar_pelicula('Sabrina')\n",
    "print(M10_test03)\n",
    "M10_test04 = comprobar_pelicula('Toy Story')\n",
    "print(M10_test04)\n",
    "M10_test05 = comprobar_pelicula('Pinocchio')\n",
    "print(M10_test05)"
   ]
  },
  {
   "cell_type": "markdown",
   "metadata": {},
   "source": [
    "Mediante la implementación de la función que comprueba la existencia de la película pasada por parametro mediante su titulo y la indexación correcta, se puede observar que la recomendación sólo de la característica 'overview' es capaz de recomendar películas con demasiada similitud, tras a ello, se elige el modelo por columna 'overview' como la caracteristica de entrenamiento para el modelo, mediante ello se realiza la recomendación."
   ]
  }
 ],
 "metadata": {
  "kernelspec": {
   "display_name": "Python 3",
   "language": "python",
   "name": "python3"
  },
  "language_info": {
   "codemirror_mode": {
    "name": "ipython",
    "version": 3
   },
   "file_extension": ".py",
   "mimetype": "text/x-python",
   "name": "python",
   "nbconvert_exporter": "python",
   "pygments_lexer": "ipython3",
   "version": "3.12.1"
  }
 },
 "nbformat": 4,
 "nbformat_minor": 2
}
